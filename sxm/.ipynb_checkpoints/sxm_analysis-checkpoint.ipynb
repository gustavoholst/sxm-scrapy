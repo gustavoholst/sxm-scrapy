{
 "cells": [
  {
   "cell_type": "code",
   "execution_count": 109,
   "metadata": {
    "collapsed": true
   },
   "outputs": [],
   "source": [
    "import os\n",
    "import pandas\n",
    "import time"
   ]
  },
  {
   "cell_type": "code",
   "execution_count": 77,
   "metadata": {
    "collapsed": false
   },
   "outputs": [],
   "source": [
    "log_path = 'C:\\\\Users\\\\ringq\\\\Documents\\\\Programs\\\\SXM Scrape\\\\sxm_scrapy\\\\sxm-scrapy\\\\sxm\\\\channel_logs\\\\'\n"
   ]
  },
  {
   "cell_type": "code",
   "execution_count": 337,
   "metadata": {
    "collapsed": true
   },
   "outputs": [],
   "source": [
    "def read_log(channel):    \n",
    "    log_file = log_path + file\n",
    "    if os.path.isfile(log_file):\n",
    "        history = pandas.read_csv(log_file,index_col=0)\n",
    "        print(file.split('_')[0] + \" table loaded from\", log_file)\n",
    "        return history"
   ]
  },
  {
   "cell_type": "code",
   "execution_count": 354,
   "metadata": {
    "collapsed": true
   },
   "outputs": [],
   "source": [
    "def remove_sxm_tags(data):\n",
    "    data = data.loc[data['title'] != '#bpmBreaker']\n",
    "    data = data.loc[data['artist'] != 'SiriusXM Chill']\n",
    "    data = data.loc[data['artist'] != '@sxmElectro #bpm']\n",
    "    return data\n"
   ]
  },
  {
   "cell_type": "code",
   "execution_count": 338,
   "metadata": {
    "collapsed": false
   },
   "outputs": [
    {
     "name": "stdout",
     "output_type": "stream",
     "text": [
      "BPM table loaded from C:\\Users\\ringq\\Documents\\Programs\\SXM Scrape\\sxm_scrapy\\sxm-scrapy\\sxm\\channel_logs\\BPM_log.log\n",
      "Electric Area table loaded from C:\\Users\\ringq\\Documents\\Programs\\SXM Scrape\\sxm_scrapy\\sxm-scrapy\\sxm\\channel_logs\\Electric Area_log.log\n",
      "SiriusXM Hits 1 table loaded from C:\\Users\\ringq\\Documents\\Programs\\SXM Scrape\\sxm_scrapy\\sxm-scrapy\\sxm\\channel_logs\\SiriusXM Hits 1_log.log\n"
     ]
    }
   ],
   "source": [
    "channel_logs = {}\n",
    "log_file_list = os.listdir(log_path)\n",
    "for file in log_file_list:\n",
    "    channel = file.split('_')[0]\n",
    "    filename = log_path + file\n",
    "    channel_logs[channel] = read_log(filename)"
   ]
  },
  {
   "cell_type": "code",
   "execution_count": 358,
   "metadata": {
    "collapsed": false
   },
   "outputs": [],
   "source": [
    "def get_recent(channel, n):\n",
    "    data = channel_logs[channel]\n",
    "    data = remove_sxm_tags(data)\n",
    "    recent = data.iloc[range(len(data.index) - n,len(data.index))]\n",
    "    return recent"
   ]
  },
  {
   "cell_type": "code",
   "execution_count": 364,
   "metadata": {
    "collapsed": false
   },
   "outputs": [],
   "source": [
    "#get_recent('BPM',10)"
   ]
  },
  {
   "cell_type": "code",
   "execution_count": 360,
   "metadata": {
    "collapsed": false
   },
   "outputs": [],
   "source": [
    "def get_top(channel,n,t_start,t_stop): \n",
    "    \"\"\"Get most played songs between 't_start' \n",
    "    \n",
    "    and 't_stop'\n",
    "    \"\"\"\n",
    "    data = channel_logs[channel]\n",
    "    subdata = data.loc[(data['time'] >= t_start) & (data['time'] <= t_stop)]#[['artist','title']]\n",
    "    subdata = remove_sxm_tags(subdata)\n",
    "    tops = subdata['title'].value_counts()\n",
    "    subdata['count'] = subdata.groupby(['title'])['artist'].transform('count')\n",
    "    sorted_data = subdata.drop_duplicates('title').sort_values('count',ascending = 0)\n",
    "    return sorted_data.iloc[range(0,n)]"
   ]
  },
  {
   "cell_type": "code",
   "execution_count": 366,
   "metadata": {
    "collapsed": false
   },
   "outputs": [],
   "source": [
    "#get_top('BPM',20,1495333918.914473,1496384018.8914473)"
   ]
  },
  {
   "cell_type": "code",
   "execution_count": null,
   "metadata": {
    "collapsed": true
   },
   "outputs": [],
   "source": [
    "def get_new(channel,n)\n",
    "    \"\"\"Get 'n' newest songs from 'channel'\n",
    "    \"\"\"\n",
    "    data = channel_logs[channel]\n",
    "    subdata = data.loc[(data['time'] >= t_start) & (data['time'] <= t_stop)]#[['artist','title']]\n",
    "    subdata = remove_sxm_tags(subdata)\n",
    "    tops = subdata['title'].value_counts()\n",
    "    subdata['count'] = subdata.groupby(['title'])['artist'].transform('count')\n",
    "    sorted_data = subdata.drop_duplicates('title').sort_values('count',ascending = 0)\n",
    "    return sorted_data.iloc[range(0,n)]"
   ]
  }
 ],
 "metadata": {
  "kernelspec": {
   "display_name": "Python 3",
   "language": "python",
   "name": "python3"
  },
  "language_info": {
   "codemirror_mode": {
    "name": "ipython",
    "version": 3
   },
   "file_extension": ".py",
   "mimetype": "text/x-python",
   "name": "python",
   "nbconvert_exporter": "python",
   "pygments_lexer": "ipython3",
   "version": "3.6.1"
  }
 },
 "nbformat": 4,
 "nbformat_minor": 2
}
